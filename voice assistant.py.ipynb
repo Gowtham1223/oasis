{
 "cells": [
  {
   "cell_type": "code",
   "execution_count": 1,
   "id": "2f39242e",
   "metadata": {},
   "outputs": [
    {
     "ename": "ModuleNotFoundError",
     "evalue": "No module named 'speech_recognition'",
     "output_type": "error",
     "traceback": [
      "\u001b[1;31m---------------------------------------------------------------------------\u001b[0m",
      "\u001b[1;31mModuleNotFoundError\u001b[0m                       Traceback (most recent call last)",
      "Cell \u001b[1;32mIn[1], line 1\u001b[0m\n\u001b[1;32m----> 1\u001b[0m \u001b[38;5;28;01mimport\u001b[39;00m \u001b[38;5;21;01mspeech_recognition\u001b[39;00m \u001b[38;5;28;01mas\u001b[39;00m \u001b[38;5;21;01msr\u001b[39;00m\n\u001b[0;32m      2\u001b[0m \u001b[38;5;28;01mimport\u001b[39;00m \u001b[38;5;21;01mpyttsx3\u001b[39;00m\n\u001b[0;32m      3\u001b[0m \u001b[38;5;28;01mimport\u001b[39;00m \u001b[38;5;21;01mpywhatkit\u001b[39;00m\n",
      "\u001b[1;31mModuleNotFoundError\u001b[0m: No module named 'speech_recognition'"
     ]
    }
   ],
   "source": [
    "import speech_recognition as sr\n",
    "import pyttsx3\n",
    "import pywhatkit\n",
    "import datetime\n",
    "\n",
    "# Initialize the recognizer\n",
    "recognizer = sr.Recognizer()\n",
    "\n",
    "# Initialize the text-to-speech engine\n",
    "engine = pyttsx3.init()\n",
    "\n",
    "# Function to speak a response\n",
    "def speak(text):\n",
    "    engine.say(text)\n",
    "    engine.runAndWait()\n",
    "\n",
    "# Function to listen to voice commands\n",
    "def listen():\n",
    "    with sr.Microphone() as source:\n",
    "        print(\"Listening...\")\n",
    "        audio = recognizer.listen(source)\n",
    "        try:\n",
    "            command = recognizer.recognize_google(audio)\n",
    "            print(\"You said: \" + command)\n",
    "            return command\n",
    "        except sr.UnknownValueError:\n",
    "            print(\"Sorry, I did not understand your command.\")\n",
    "            return \"\"\n",
    "        except sr.RequestError as e:\n",
    "            print(f\"Could not request results; {e}\")\n",
    "            return \"\"\n",
    "\n",
    "# Main loop\n",
    "while True:\n",
    "    command = listen()\n",
    "\n",
    "    if \"hello\" in command:\n",
    "        speak(\"Hello! How can I assist you today?\")\n",
    "    elif \"how are you?\" in command:\n",
    "        speak(\"I am fine! what about you?\")\n",
    "    elif \"play\" in command:\n",
    "        song = command.replace('play', \"\")\n",
    "        speak(\"Playing..\" +song)\n",
    "        pywhatkit.playonyt(song)\n",
    "        break\n",
    "    elif \"time\" in command:\n",
    "        time = datetime.datetime.now().strftime('%I:%M%p')\n",
    "        speak('Current Time' +time)\n",
    "    elif \"date\" in command:\n",
    "        date = datetime.datetime.now().strftime('%d /%m /%Y')\n",
    "        speak('Todays Date' +date)\n",
    "\n",
    "    elif \"goodbye\" in command:\n",
    "        speak(\"Yeah,Goodbye!\")\n",
    "        break\n",
    "    else:\n",
    "        speak(\"I'm sorry, I do not understand that command.\")\n",
    "        break"
   ]
  },
  {
   "cell_type": "code",
   "execution_count": null,
   "id": "c66157f3",
   "metadata": {},
   "outputs": [],
   "source": []
  }
 ],
 "metadata": {
  "kernelspec": {
   "display_name": "Python 3 (ipykernel)",
   "language": "python",
   "name": "python3"
  },
  "language_info": {
   "codemirror_mode": {
    "name": "ipython",
    "version": 3
   },
   "file_extension": ".py",
   "mimetype": "text/x-python",
   "name": "python",
   "nbconvert_exporter": "python",
   "pygments_lexer": "ipython3",
   "version": "3.11.5"
  }
 },
 "nbformat": 4,
 "nbformat_minor": 5
}
